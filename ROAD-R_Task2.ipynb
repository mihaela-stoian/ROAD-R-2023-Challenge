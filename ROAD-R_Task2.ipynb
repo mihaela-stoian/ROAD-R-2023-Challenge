{
 "cells": [
  {
   "cell_type": "markdown",
   "source": [
    "# Task 2"
   ],
   "metadata": {
    "collapsed": false
   }
  },
  {
   "cell_type": "markdown",
   "source": [
    "### Training the model\n",
    "\n",
    "To train the model, provide the following positional arguments:\n",
    "   - `TASK`: set to 2 to use all 15 videos from the training partition train_1.\n",
    "   - `DATA_ROOT`: path to a directory in which `road` can be found, containing `road_test_v1.0.json`, `road_trainval_v1.0.json`, and directories `rgb-images` and `videos`.\n",
    "   - `SAVE_ROOT`: path to a directory in which the experiments (e.g. checkpoints, training logs) will be saved.\n",
    "   - `MODEL_PATH`: path to the directory containing the weights for the chosen backbone (e.g. `resnet50RCGRU.pth`).\n",
    "\n",
    "The remaining arguments are optional and include `MODEL_TYPE`, `BATCH_SIZE`, `MAX_EPOCHS`, `LOGIC`."
   ],
   "metadata": {
    "collapsed": false
   }
  },
  {
   "cell_type": "code",
   "execution_count": null,
   "outputs": [],
   "source": [
    "# Example (a): training without t-norm-based loss.\n",
    "\n",
    "DATA_ROOT=\"../\" # should contain a directory named road\n",
    "EXPDIR=\"./experiments/\"\n",
    "MODEL_PATH=\"../kinetics-pt/\" # should contain the .pth checkpoint for the specified args.MODEL_TYPE (e.g. resnet50RCGRU.pth if args.MODEL_TYPE==\"RCGRU\")\n",
    "\n",
    "TASK=2\n",
    "EXP_ID=\"task2\"\n",
    "LOGIC=\"None\"\n",
    "\n",
    "! python main.py {TASK} {DATA_ROOT} {EXPDIR}/{EXP_ID}/ {MODEL_PATH} --MODE=\"train\" --VAL_STEP=2 --LR=0.0041 --MAX_EPOCHS=30 --MILESTONES=20,25 --LOGIC={LOGIC}"
   ],
   "metadata": {
    "collapsed": false
   }
  },
  {
   "cell_type": "code",
   "execution_count": null,
   "outputs": [],
   "source": [
    "# Example (b): training with Lukasiewicz t-norm-based loss.\n",
    "\n",
    "DATA_ROOT=\"../\" # should contain a directory named road\n",
    "EXPDIR=\"./experiments/\"\n",
    "MODEL_PATH=\"../kinetics-pt/\" # should contain the .pth checkpoint for the specified args.MODEL_TYPE (e.g. resnet50RCGRU.pth if args.MODEL_TYPE==\"RCGRU\")\n",
    "\n",
    "TASK=2\n",
    "EXP_ID=\"task2\"\n",
    "LOGIC=\"Lukasiewicz\"\n",
    "\n",
    "! python main.py {TASK} {DATA_ROOT} {EXPDIR}/{EXP_ID}/ {MODEL_PATH} --MODE=\"train\" --VAL_STEP=2 --LR=0.0041 --MAX_EPOCHS=30 --MILESTONES=20,25 --LOGIC={LOGIC}"
   ],
   "metadata": {
    "collapsed": false
   }
  },
  {
   "cell_type": "markdown",
   "source": [
    "### Resuming the training\n",
    "To resume the training of a model, provide the path to the directory containing the checkpoint from which the experiment should be resumed in the `EXP_NAME` argument.\n",
    "If the last completed epoch was number 15, the training can be resumed by specifying `--RESUME=15` in the training command."
   ],
   "metadata": {
    "collapsed": false
   }
  },
  {
   "cell_type": "code",
   "execution_count": null,
   "outputs": [],
   "source": [
    "# Example (b): training with Lukasiewicz t-norm-based loss.\n",
    "\n",
    "DATA_ROOT=\"../\" # should contain a directory named road\n",
    "EXPDIR=\"./experiments/\"\n",
    "MODEL_PATH=\"../kinetics-pt/\" # should contain the .pth checkpoint for the specified args.MODEL_TYPE (e.g. resnet50RCGRU.pth if args.MODEL_TYPE==\"RCGRU\")\n",
    "\n",
    "TASK=2\n",
    "EXP_ID=\"task2\"\n",
    "LOGIC=\"Lukasiewicz\"\n",
    "EXP_NAME=\"experiments/task2/road/logic-ssl_cache_Lukasiewicz_10.0/resnet50RCGRU512-Pkinetics-b4s8x1x1-roadt1-h3x3x3-05-01-01-01-01x/\"\n",
    "\n",
    "! python main.py {TASK} {DATA_ROOT} {EXPDIR}/{EXP_ID}/ {MODEL_PATH} --MODE=\"train\" --VAL_STEP=2 --LR=0.0041 --MAX_EPOCHS=30 --MILESTONES=20,25 --LOGIC={LOGIC} --EXP_NAME={EXP_NAME} --RESUME=15"
   ],
   "metadata": {
    "collapsed": false
   }
  },
  {
   "cell_type": "markdown",
   "source": [
    "### Evaluating the model\n",
    "\n",
    "Similarly to resuming the training, the experiment's path must be provided in the `EXP_NAME` argument.\n",
    "Additionally, the `MODE` argument must be set to \"gen_dets\" and `TEST_SUBSETS` to \"test\".\n",
    "\n",
    "To evaluate the model at epoch 130, provide `--EVAL_EPOCHS=130` in the command line.\n"
   ],
   "metadata": {
    "collapsed": false
   }
  },
  {
   "cell_type": "code",
   "execution_count": null,
   "outputs": [],
   "source": [
    "# Example (b): training with Lukasiewicz t-norm-based loss.\n",
    "\n",
    "DATA_ROOT=\"../\" # should contain a directory named road\n",
    "EXPDIR=\"./experiments/\"\n",
    "MODEL_PATH=\"../kinetics-pt/\" # should contain the .pth checkpoint for the specified args.MODEL_TYPE (e.g. resnet50RCGRU.pth if args.MODEL_TYPE==\"RCGRU\")\n",
    "\n",
    "TASK=2\n",
    "EXP_ID=\"task2\"\n",
    "LOGIC=\"Lukasiewicz\"\n",
    "EXP_NAME=\"experiments/task2/road/logic-ssl_cache_Lukasiewicz_10.0/resnet50RCGRU512-Pkinetics-b4s8x1x1-roadt1-h3x3x3-05-01-01-01-01x/\"\n",
    "\n",
    "! python main.py {TASK} {DATA_ROOT} {EXPDIR}/{EXP_ID}/ {MODEL_PATH} --MODE=\"gen_dets\" --TEST_SUBSETS=test --EVAL_EPOCHS=130 --LOGIC={LOGIC} --EXP_NAME={EXP_NAME}"
   ],
   "metadata": {
    "collapsed": false
   }
  },
  {
   "cell_type": "markdown",
   "source": [
    "### Postprocessing the predictions\n",
    "\n",
    "To postprocess the predictions, and thus guarantee that the requirements are satisfied, use the output `.pkl` file (from `EXP_NAME`) as input to the postprocessing module from [Postprocessing]().\n"
   ],
   "metadata": {
    "collapsed": false
   }
  }
 ],
 "metadata": {
  "kernelspec": {
   "display_name": "Python 3",
   "language": "python",
   "name": "python3"
  },
  "language_info": {
   "codemirror_mode": {
    "name": "ipython",
    "version": 2
   },
   "file_extension": ".py",
   "mimetype": "text/x-python",
   "name": "python",
   "nbconvert_exporter": "python",
   "pygments_lexer": "ipython2",
   "version": "2.7.6"
  }
 },
 "nbformat": 4,
 "nbformat_minor": 0
}
